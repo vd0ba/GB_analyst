{
 "cells": [
  {
   "cell_type": "markdown",
   "id": "9d3b3c20",
   "metadata": {},
   "source": [
    "# Домашняя работа 8"
   ]
  },
  {
   "cell_type": "markdown",
   "id": "140d5e6b",
   "metadata": {},
   "source": [
    "### 1. Обучить любую модель классификации на датасете IRIS до применения самописного PCA (2 компоненты) и после него. Сравнить качество классификации по отложенной выборке."
   ]
  },
  {
   "cell_type": "code",
   "execution_count": 1,
   "id": "2e588c3e",
   "metadata": {},
   "outputs": [],
   "source": [
    "import numpy as np\n",
    "from sklearn import datasets\n",
    "from sklearn.model_selection import train_test_split\n",
    "import matplotlib.pyplot as plt\n",
    "from matplotlib.colors import ListedColormap\n",
    "from sklearn.preprocessing import StandardScaler\n",
    "from sklearn.linear_model import LogisticRegression\n",
    "from sklearn.metrics import accuracy_score\n",
    "\n",
    "import warnings\n",
    "warnings.simplefilter('ignore')\n",
    "%matplotlib inline"
   ]
  },
  {
   "cell_type": "code",
   "execution_count": 2,
   "id": "c81982f2",
   "metadata": {},
   "outputs": [
    {
     "data": {
      "text/plain": [
       "(150, 4)"
      ]
     },
     "execution_count": 2,
     "metadata": {},
     "output_type": "execute_result"
    }
   ],
   "source": [
    "# Загрузим игрушечный датасет из sklearn\n",
    "iris = datasets.load_iris()\n",
    "X = iris.data\n",
    "y = iris.target\n",
    "X.shape"
   ]
  },
  {
   "cell_type": "code",
   "execution_count": 3,
   "id": "d99709ea",
   "metadata": {},
   "outputs": [],
   "source": [
    "def standard_scale(x):\n",
    "    res = (x - x.mean(axis=0)) / x.std(axis=0)\n",
    "    return res"
   ]
  },
  {
   "cell_type": "code",
   "execution_count": 4,
   "id": "edf92481",
   "metadata": {},
   "outputs": [],
   "source": [
    "# Для начала отмасштабируем выборку\n",
    "X = X.astype(float)\n",
    "X = standard_scale(X)"
   ]
  },
  {
   "cell_type": "markdown",
   "id": "b8409cae",
   "metadata": {},
   "source": [
    "##### Модель до применения PCA"
   ]
  },
  {
   "cell_type": "code",
   "execution_count": 5,
   "id": "9fcc5c6d",
   "metadata": {},
   "outputs": [],
   "source": [
    "# Разбитие выборки на обучение и тест\n",
    "X_train, X_test, y_train, y_test = train_test_split(X, y, test_size=0.3, random_state=9)"
   ]
  },
  {
   "cell_type": "code",
   "execution_count": 6,
   "id": "821272ce",
   "metadata": {},
   "outputs": [
    {
     "data": {
      "text/plain": [
       "95.24"
      ]
     },
     "execution_count": 6,
     "metadata": {},
     "output_type": "execute_result"
    }
   ],
   "source": [
    "logreg = LogisticRegression()\n",
    "logreg.fit(X_train, y_train)\n",
    "y_pred = logreg.predict(X_test)\n",
    "acc_log = round(logreg.score(X_train, y_train) * 100, 2)\n",
    "acc_log"
   ]
  },
  {
   "cell_type": "markdown",
   "id": "baf0512d",
   "metadata": {},
   "source": [
    "##### Применим РСА (из урока)"
   ]
  },
  {
   "cell_type": "code",
   "execution_count": 7,
   "id": "dd6c102d",
   "metadata": {},
   "outputs": [
    {
     "name": "stdout",
     "output_type": "stream",
     "text": [
      "Собственные значения и собственные векторы в порядке убывания:\n",
      "(437.77467247979905, array([ 0.52106591, -0.26934744,  0.5804131 ,  0.56485654]))\n",
      "(137.10457072021057, array([-0.37741762, -0.92329566, -0.02449161, -0.06694199]))\n",
      "(22.013531335697206, array([-0.71956635,  0.24438178,  0.14212637,  0.63427274]))\n",
      "(3.1072254642929558, array([ 0.26128628, -0.12350962, -0.80144925,  0.52359713]))\n"
     ]
    }
   ],
   "source": [
    "# Найдем собственные векторы и собственные значения\n",
    " \n",
    "covariance_matrix = X.T @ X\n",
    "\n",
    "eig_values, eig_vectors = np.linalg.eig(covariance_matrix)\n",
    "\n",
    "# сформируем список кортежей (собственное значение, собственный вектор)\n",
    "eig_pairs = [(np.abs(eig_values[i]), eig_vectors[:, i]) for i in range(len(eig_values))]\n",
    "\n",
    "# и отсортируем список по убыванию собственных значений\n",
    "eig_pairs.sort(key=lambda x: x[0], reverse=True)\n",
    "\n",
    "print('Собственные значения и собственные векторы в порядке убывания:')\n",
    "for i in eig_pairs:\n",
    "    print(i)"
   ]
  },
  {
   "cell_type": "code",
   "execution_count": 8,
   "id": "d1c29e66",
   "metadata": {},
   "outputs": [
    {
     "name": "stdout",
     "output_type": "stream",
     "text": [
      "Доля дисперсии, описываемая каждой из компонент \n",
      "[72.96244541329987, 22.850761786701774, 3.6689218892828697, 0.517870910715493]\n",
      "Кумулятивная доля дисперсии по компонентам \n",
      "[ 72.96244541  95.8132072   99.48212909 100.        ]\n"
     ]
    }
   ],
   "source": [
    "eig_sum = sum(eig_values)\n",
    "var_exp = [(i / eig_sum) * 100 for i in sorted(eig_values, reverse=True)]\n",
    "cum_var_exp = np.cumsum(var_exp)\n",
    "print(f'Доля дисперсии, описываемая каждой из компонент \\n{var_exp}')\n",
    "\n",
    "# а теперь оценим кумулятивную (то есть накапливаемую) дисперсию при учитывании каждой из компонент\n",
    "print(f'Кумулятивная доля дисперсии по компонентам \\n{cum_var_exp}')"
   ]
  },
  {
   "cell_type": "code",
   "execution_count": 9,
   "id": "4aa68e90",
   "metadata": {},
   "outputs": [
    {
     "name": "stdout",
     "output_type": "stream",
     "text": [
      "Матрица весов W:\n",
      " [[ 0.52106591 -0.37741762]\n",
      " [-0.26934744 -0.92329566]\n",
      " [ 0.5804131  -0.02449161]\n",
      " [ 0.56485654 -0.06694199]]\n"
     ]
    }
   ],
   "source": [
    "# Сформируем вектор весов из собственных векторов, соответствующих первым двум главным компонентам\n",
    "W = np.hstack([eig_pairs[i][1].reshape(4,1) for i in range(2)])\n",
    "\n",
    "print(f'Матрица весов W:\\n', W)"
   ]
  },
  {
   "cell_type": "code",
   "execution_count": 10,
   "id": "ad423a72",
   "metadata": {},
   "outputs": [],
   "source": [
    "# Сформируем новую матрицу \"объекты-признаки\"\n",
    "Z = X.dot(W)"
   ]
  },
  {
   "cell_type": "code",
   "execution_count": 11,
   "id": "58ef5a14",
   "metadata": {},
   "outputs": [
    {
     "data": {
      "image/png": "[encoded data removed]",
      "text/plain": [
       "<Figure size 640x480 with 1 Axes>"
      ]
     },
     "metadata": {},
     "output_type": "display_data"
    }
   ],
   "source": [
    "plt.figure()\n",
    "y = iris.target\n",
    "for c, i in zip(\"rgb\", [0, 1, 2]):\n",
    "    plt.scatter(X[y == i, 0], X[y == i, 1], c=c)\n",
    "plt.xlabel('Главная компонента 1')\n",
    "plt.ylabel('Главная компонента 2')\n",
    "plt.title('датасет IRIS')\n",
    "plt.show()"
   ]
  },
  {
   "cell_type": "code",
   "execution_count": 12,
   "id": "02d4d691",
   "metadata": {},
   "outputs": [
    {
     "data": {
      "image/png": "[encoded data removed]",
      "text/plain": [
       "<Figure size 640x480 with 1 Axes>"
      ]
     },
     "metadata": {},
     "output_type": "display_data"
    }
   ],
   "source": [
    "plt.figure()\n",
    "y = iris.target\n",
    "for c, i in zip(\"rgb\", [0, 1, 2]):\n",
    "    plt.scatter(Z[y == i, 0], Z[y == i, 1], c=c)\n",
    "plt.xlabel('Главная компонента 1')\n",
    "plt.ylabel('Главная компонента 2')\n",
    "plt.title('PCA датасета IRIS')\n",
    "plt.show()"
   ]
  },
  {
   "cell_type": "markdown",
   "id": "0e88ce1c",
   "metadata": {},
   "source": [
    "##### Модель после применения РСА"
   ]
  },
  {
   "cell_type": "code",
   "execution_count": 13,
   "id": "929054d2",
   "metadata": {},
   "outputs": [],
   "source": [
    "Z_train, Z_test, y_train, y_test = train_test_split(Z, y, test_size=0.3, random_state=9)"
   ]
  },
  {
   "cell_type": "code",
   "execution_count": 14,
   "id": "4d16bba7",
   "metadata": {},
   "outputs": [
    {
     "data": {
      "text/plain": [
       "92.38"
      ]
     },
     "execution_count": 14,
     "metadata": {},
     "output_type": "execute_result"
    }
   ],
   "source": [
    "logreg2 = LogisticRegression()\n",
    "logreg2.fit(Z_train, y_train)\n",
    "y_pred2 = logreg2.predict(Z_test)\n",
    "acc_log2 = round(logreg2.score(Z_train, y_train) * 100, 2)\n",
    "acc_log2"
   ]
  },
  {
   "cell_type": "code",
   "execution_count": 15,
   "id": "a57f288a",
   "metadata": {},
   "outputs": [
    {
     "data": {
      "text/plain": [
       "(95.24, 92.38)"
      ]
     },
     "execution_count": 15,
     "metadata": {},
     "output_type": "execute_result"
    }
   ],
   "source": [
    "acc_log, acc_log2"
   ]
  },
  {
   "cell_type": "markdown",
   "id": "e3c0e6ec",
   "metadata": {},
   "source": [
    "Видно, что с применением РСА, модель выдает метрику немного хуже (если поэксперементировать с параметрами в train, то может и сильно измениться)"
   ]
  },
  {
   "cell_type": "markdown",
   "id": "e0aaeecc",
   "metadata": {},
   "source": [
    "##### 2. *Написать свою реализацию метода главных компонент с помощью сингулярного разложения с использованием функции numpy.linalg.svd()"
   ]
  },
  {
   "cell_type": "code",
   "execution_count": 16,
   "id": "1b61cac3",
   "metadata": {},
   "outputs": [
    {
     "data": {
      "text/plain": [
       "array([20.92306556, 11.7091661 ,  4.69185798,  1.76273239])"
      ]
     },
     "execution_count": 16,
     "metadata": {},
     "output_type": "execute_result"
    }
   ],
   "source": [
    "U, D, V = np.linalg.svd(X)\n",
    "# сингулярные числа матрицы\n",
    "D"
   ]
  },
  {
   "cell_type": "code",
   "execution_count": 17,
   "id": "4684ce22",
   "metadata": {},
   "outputs": [
    {
     "name": "stdout",
     "output_type": "stream",
     "text": [
      "Доля дисперсии, описываемая каждой из компонент \n",
      "[53.52971788236239, 29.956812784020087, 12.00368241720948, 4.509786916408034]\n",
      "Кумулятивная доля дисперсии по компонентам \n",
      "[ 53.52971788  83.48653067  95.49021308 100.        ]\n"
     ]
    }
   ],
   "source": [
    "eig_sum2 = sum(D)\n",
    "var_exp2 = [(i / eig_sum2) * 100 for i in sorted(D, reverse=True)]\n",
    "cum_var_exp2 = np.cumsum(var_exp2)\n",
    "print(f'Доля дисперсии, описываемая каждой из компонент \\n{var_exp2}')\n",
    "\n",
    "# а теперь оценим кумулятивную (то есть накапливаемую) дисперсию при учитывании каждой из компонент\n",
    "print(f'Кумулятивная доля дисперсии по компонентам \\n{cum_var_exp2}')"
   ]
  },
  {
   "cell_type": "markdown",
   "id": "5678da85",
   "metadata": {},
   "source": [
    "Возьмем первые 3 признака, потеряв около 5% информации"
   ]
  },
  {
   "cell_type": "code",
   "execution_count": 18,
   "id": "59fc77f7",
   "metadata": {},
   "outputs": [
    {
     "name": "stdout",
     "output_type": "stream",
     "text": [
      "Матрица весов W:\n",
      " [[ 0.52106591 -0.26934744  0.5804131 ]\n",
      " [-0.37741762 -0.92329566 -0.02449161]\n",
      " [ 0.71956635 -0.24438178 -0.14212637]\n",
      " [ 0.26128628 -0.12350962 -0.80144925]]\n"
     ]
    }
   ],
   "source": [
    "# Сформируем вектор весов из собственных векторов, соответствующих первым двум главным компонентам\n",
    "W2 = V[:, :3]\n",
    "\n",
    "print(f'Матрица весов W:\\n', W2)"
   ]
  },
  {
   "cell_type": "markdown",
   "id": "9a253de1",
   "metadata": {},
   "source": [
    "Сформируем новую матрицу \"объекты-признаки\""
   ]
  },
  {
   "cell_type": "code",
   "execution_count": 19,
   "id": "a715fe05",
   "metadata": {},
   "outputs": [
    {
     "data": {
      "text/plain": [
       "array([[-2.16199391, -0.20824916,  0.69701917],\n",
       "       [-1.85386523,  0.91972173,  0.58455377],\n",
       "       [-2.19479706,  0.57380492,  0.44070126],\n",
       "       [-2.08925659,  0.79120079,  0.35985553],\n",
       "       [-2.31201067, -0.38815258,  0.62105386],\n",
       "       [-2.12862356, -1.2305024 ,  0.65022254],\n",
       "       [-2.35640215,  0.15121396,  0.24552345],\n",
       "       [-2.09735174,  0.02303674,  0.62425154],\n",
       "       [-2.08266715,  1.29544269,  0.23855457],\n",
       "       [-1.93424093,  0.70954986,  0.6763343 ],\n",
       "       [-2.1054469 , -0.74512731,  0.88864755],\n",
       "       [-2.18272634,  0.07441922,  0.47551861],\n",
       "       [-1.95139536,  0.96861583,  0.61972287],\n",
       "       [-2.3897725 ,  1.1734672 ,  0.29232007],\n",
       "       [-2.23623695, -1.47162126,  1.17727785],\n",
       "       [-2.45541239, -2.36332948,  0.84917155],\n",
       "       [-2.29221676, -1.17494228,  0.68253493],\n",
       "       [-2.12760023, -0.224507  ,  0.59152265],\n",
       "       [-1.88672759, -1.09961365,  0.97233921],\n",
       "       [-2.34734287, -0.87601606,  0.56653089],\n",
       "       [-1.76300935, -0.13528835,  0.88940502],\n",
       "       [-2.22606887, -0.67973422,  0.46667226],\n",
       "       [-2.72814966, -0.20204743,  0.37205657],\n",
       "       [-1.76235733,  0.12638658,  0.36757111],\n",
       "       [-2.06003144,  0.03274913,  0.45128431],\n",
       "       [-1.70893218,  0.85930541,  0.638725  ],\n",
       "       [-1.98766608, -0.02336897,  0.40518041],\n",
       "       [-2.05795916, -0.25477545,  0.75926849],\n",
       "       [-2.01197715, -0.02834574,  0.77298447],\n",
       "       [-2.07210216,  0.53213483,  0.41646696],\n",
       "       [-1.92208539,  0.71203825,  0.49243227],\n",
       "       [-1.77601859, -0.14002396,  0.69456819],\n",
       "       [-2.61363473, -1.51375565,  0.83093767],\n",
       "       [-2.51761032, -1.82657191,  0.93886362],\n",
       "       [-1.89984725,  0.69329202,  0.57083779],\n",
       "       [-2.04628601,  0.48978619,  0.65976161],\n",
       "       [-1.95034642, -0.32490415,  0.98640694],\n",
       "       [-2.4095408 , -0.33925848,  0.65622295],\n",
       "       [-2.21044577,  1.09679304,  0.24099478],\n",
       "       [-2.0342153 , -0.00959951,  0.69457896],\n",
       "       [-2.23163497, -0.17798071,  0.52927333],\n",
       "       [-1.50475343,  2.53567667,  0.24529091],\n",
       "       [-2.3842064 ,  0.67171369,  0.229719  ],\n",
       "       [-2.00575902, -0.26842433,  0.18854949],\n",
       "       [-2.14935599, -0.94783402,  0.42872198],\n",
       "       [-1.882608  ,  0.93610015,  0.40872984],\n",
       "       [-2.34083825, -0.87364825,  0.6639493 ],\n",
       "       [-2.2170352 ,  0.59255115,  0.36229574],\n",
       "       [-2.16858335, -0.71249105,  0.81832013],\n",
       "       [-2.05136973,  0.24946645,  0.63796753],\n",
       "       [ 1.06060764, -0.84418413,  0.51761841],\n",
       "       [ 0.63438604, -0.63684437,  0.00631357],\n",
       "       [ 1.20054179, -0.6430461 ,  0.33127617],\n",
       "       [ 0.57480197,  1.67170485, -0.32450868],\n",
       "       [ 1.08594204,  0.16678804,  0.09111445],\n",
       "       [ 0.4711648 ,  0.4742838 , -0.25243377],\n",
       "       [ 0.60055956, -0.86078569, -0.19130444],\n",
       "       [-0.28036617,  1.80098645, -0.37907485],\n",
       "       [ 0.99341081, -0.04587221,  0.36679701],\n",
       "       [ 0.03136676,  0.91708711, -0.65546091],\n",
       "       [ 0.21208813,  2.59072884, -0.30235207],\n",
       "       [ 0.36976953, -0.00691365, -0.30981345],\n",
       "       [ 0.87418347,  1.76983677,  0.34925585],\n",
       "       [ 0.75302055,  0.0871612 , -0.09841469],\n",
       "       [-0.04693667,  0.41939067, -0.2556962 ],\n",
       "       [ 0.83538371, -0.49206559,  0.33650833],\n",
       "       [ 0.30305509,  0.04932503, -0.54503   ],\n",
       "       [ 0.35440731,  0.75852087,  0.17233347],\n",
       "       [ 1.37691629,  1.55382489, -0.07796237],\n",
       "       [ 0.35449213,  1.26039496, -0.04638591],\n",
       "       [ 0.54457975, -0.56410671, -0.68604736],\n",
       "       [ 0.51921909,  0.41318894,  0.06926639],\n",
       "       [ 1.34300499,  0.82800948, -0.05686101],\n",
       "       [ 0.7711135 ,  0.33221656,  0.11821622],\n",
       "       [ 0.74444301,  0.0610704 ,  0.25037647],\n",
       "       [ 0.85912758, -0.24688966,  0.2718188 ],\n",
       "       [ 1.3227543 ,  0.05735705,  0.39143703],\n",
       "       [ 1.27083487, -0.41163963, -0.02281191],\n",
       "       [ 0.64248119,  0.13131968, -0.25808243],\n",
       "       [ 0.13276137,  1.08703699,  0.15611252],\n",
       "       [ 0.33733769,  1.51946092, -0.10299734],\n",
       "       [ 0.26204571,  1.54960879,  0.01057727],\n",
       "       [ 0.34139807,  0.75378525, -0.02250337],\n",
       "       [ 1.0960253 ,  0.456801  , -0.40077175],\n",
       "       [ 0.17678219,  0.11459754, -0.68568484],\n",
       "       [ 0.2424733 , -0.94763654, -0.39176839],\n",
       "       [ 0.99247229, -0.54999353,  0.20677753],\n",
       "       [ 1.24348675,  1.35505467,  0.20579828],\n",
       "       [ 0.07067452,  0.13740084, -0.30172458],\n",
       "       [ 0.40104135,  1.2466255 , -0.33578446],\n",
       "       [ 0.44336055,  0.99478354, -0.26823822],\n",
       "       [ 0.62524194, -0.11148844, -0.09597449],\n",
       "       [ 0.46917669,  0.9524349 , -0.02494357],\n",
       "       [-0.13034941,  1.98088987, -0.30310955],\n",
       "       [ 0.37221376,  0.76112983, -0.29288901],\n",
       "       [ 0.14031558,  0.10713239, -0.13397874],\n",
       "       [ 0.26158958,  0.30341422, -0.23383737],\n",
       "       [ 0.61817012,  0.12634291,  0.10972163],\n",
       "       [-0.32927481,  1.54858652, -0.32532013],\n",
       "       [ 0.3075716 ,  0.52984393, -0.22012138],\n",
       "       [ 1.44178061, -1.18767667, -1.24578834],\n",
       "       [ 1.07293346,  0.47329999, -0.85791614],\n",
       "       [ 2.0290401 , -0.7322263 , -0.23619117],\n",
       "       [ 1.38495288, -0.16815296, -0.45244879],\n",
       "       [ 1.6437168 , -0.53877657, -0.7555741 ],\n",
       "       [ 2.63101043, -0.9926378 ,  0.05889925],\n",
       "       [ 0.3642889 ,  1.30796151, -1.22012551],\n",
       "       [ 2.30260546, -0.59174574,  0.19427872],\n",
       "       [ 2.06681653,  0.52368065, -0.16474375],\n",
       "       [ 1.79026599, -2.13291203, -0.63783334],\n",
       "       [ 1.1148807 , -0.83411002, -0.49931016],\n",
       "       [ 1.53354874,  0.24970239, -0.45210782],\n",
       "       [ 1.67603756, -0.57875741, -0.41486103],\n",
       "       [ 1.17705303,  0.92864778, -1.01438619],\n",
       "       [ 1.15802156,  0.17947111, -1.3910366 ],\n",
       "       [ 1.23672191, -0.87802735, -0.90228332],\n",
       "       [ 1.38344716, -0.43207512, -0.30935374],\n",
       "       [ 2.07439635, -2.75573933, -0.02945106],\n",
       "       [ 3.23315041, -0.24930113, -0.0834491 ],\n",
       "       [ 1.45513489,  1.54964725, -0.25900769],\n",
       "       [ 1.71599734, -1.09676876, -0.58295862],\n",
       "       [ 0.81237734,  0.33755505, -1.09354918],\n",
       "       [ 2.87441213, -0.5978269 ,  0.23792086],\n",
       "       [ 1.27242541,  0.35415661, -0.38462633],\n",
       "       [ 1.43405677, -1.21152024, -0.51825831],\n",
       "       [ 1.85613316, -1.15505842,  0.13127192],\n",
       "       [ 1.08151035,  0.18814322, -0.45251354],\n",
       "       [ 0.88551157, -0.2181899 , -0.54219484],\n",
       "       [ 1.6381507 , -0.03702306, -0.69297303],\n",
       "       [ 1.87930983, -0.66968332,  0.36969693],\n",
       "       [ 2.4052193 , -0.4003201 ,  0.18090371],\n",
       "       [ 2.00918698, -2.74682607,  0.3464311 ],\n",
       "       [ 1.67254438, -0.0532809 , -0.79846954],\n",
       "       [ 1.16416065,  0.1626104 , -0.08993087],\n",
       "       [ 1.3817462 ,  0.59976994, -0.1542039 ],\n",
       "       [ 2.55844275, -0.98833958, -0.04137588],\n",
       "       [ 1.15691341, -1.32839838, -1.11361733],\n",
       "       [ 1.2334304 , -0.61197853, -0.38531905],\n",
       "       [ 0.78147683, -0.17166361, -0.60444416],\n",
       "       [ 1.61139539, -0.81004331, -0.34209341],\n",
       "       [ 1.67010015, -0.82132438, -0.81539398],\n",
       "       [ 1.55748786, -0.80088889, -0.52885214],\n",
       "       [ 1.07293346,  0.47329999, -0.85791614],\n",
       "       [ 1.73465749, -1.09191256, -0.66944223],\n",
       "       [ 1.5716315 , -1.2765516 , -0.94024437],\n",
       "       [ 1.55899358, -0.53696674, -0.67194719],\n",
       "       [ 1.52147803,  0.74908809, -0.48692517],\n",
       "       [ 1.32953963, -0.4229207 , -0.49611248],\n",
       "       [ 0.97758668, -1.25172422, -1.06229204],\n",
       "       [ 0.84103528, -0.18069745, -0.69900587]])"
      ]
     },
     "execution_count": 19,
     "metadata": {},
     "output_type": "execute_result"
    }
   ],
   "source": [
    "X = X @ W2\n",
    "X"
   ]
  }
 ],
 "metadata": {
  "kernelspec": {
   "display_name": "Python 3 (ipykernel)",
   "language": "python",
   "name": "python3"
  },
  "language_info": {
   "codemirror_mode": {
    "name": "ipython",
    "version": 3
   },
   "file_extension": ".py",
   "mimetype": "text/x-python",
   "name": "python",
   "nbconvert_exporter": "python",
   "pygments_lexer": "ipython3",
   "version": "3.9.13"
  }
 },
 "nbformat": 4,
 "nbformat_minor": 5
}
